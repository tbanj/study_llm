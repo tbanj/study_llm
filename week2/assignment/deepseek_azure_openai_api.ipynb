{
 "cells": [
  {
   "cell_type": "code",
   "execution_count": null,
   "id": "44ca00c0-2494-48e7-ae19-7315c21d5a65",
   "metadata": {},
   "outputs": [],
   "source": [
    "# Install the following dependencies: azure.identity and azure-ai-inference\n",
    "import os\n",
    "from azure.ai.inference import ChatCompletionsClient\n",
    "from azure.ai.inference.models import SystemMessage, UserMessage\n",
    "from azure.core.credentials import AzureKeyCredential\n",
    "from dotenv import load_dotenv"
   ]
  },
  {
   "cell_type": "code",
   "execution_count": null,
   "id": "392d81ad-0296-4f8b-a069-d3f4e3c6d6c3",
   "metadata": {},
   "outputs": [],
   "source": [
    "\n",
    "load_dotenv(override=True)\n",
    "endpoint = os.getenv(\"DEEPSEEK_AZURE_INFERENCE_SDK_ENDPOINT\", \"https://claude-other-azure-resource.services.ai.azure.com/models\")\n",
    "model_name = os.getenv(\"DEPLOYMENT_NAME\", \"DeepSeek-V3-0324\")\n",
    "key = os.getenv(\"DEEPSEEK_AZURE_INFERENCE_SDK_KEY\")\n",
    "client = ChatCompletionsClient(endpoint=endpoint, credential=AzureKeyCredential(key))\n"
   ]
  },
  {
   "cell_type": "code",
   "execution_count": null,
   "id": "7f55a362-4680-433a-87e7-9701ce7d0974",
   "metadata": {},
   "outputs": [],
   "source": [
    "\n",
    "response = client.complete(\n",
    "  messages=[\n",
    "    SystemMessage(content=\"You are a helpful assistant.\"),\n",
    "    UserMessage(content=\"What are 3 things to visit in Seattle, USA?, limit your response to 200 words\")\n",
    "  ],\n",
    "  model = model_name,\n",
    "  max_tokens=1000\n",
    ")\n",
    "\n",
    "print(response)"
   ]
  },
  {
   "cell_type": "code",
   "execution_count": null,
   "id": "6e9be7a4-de33-4687-93a0-f79f424b587e",
   "metadata": {},
   "outputs": [],
   "source": []
  }
 ],
 "metadata": {
  "kernelspec": {
   "display_name": "Python 3 (ipykernel)",
   "language": "python",
   "name": "python3"
  },
  "language_info": {
   "codemirror_mode": {
    "name": "ipython",
    "version": 3
   },
   "file_extension": ".py",
   "mimetype": "text/x-python",
   "name": "python",
   "nbconvert_exporter": "python",
   "pygments_lexer": "ipython3",
   "version": "3.11.13"
  }
 },
 "nbformat": 4,
 "nbformat_minor": 5
}
