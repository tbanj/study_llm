{
 "cells": [
  {
   "cell_type": "code",
   "execution_count": null,
   "id": "af77dc72-38f9-4abc-96a9-562f4574548e",
   "metadata": {},
   "outputs": [],
   "source": [
    "\n",
    "import os\n",
    "import base64\n",
    "from openai import AzureOpenAI\n",
    "from dotenv import load_dotenv\n"
   ]
  },
  {
   "cell_type": "code",
   "execution_count": null,
   "id": "8b24e90f-cee4-4fa3-b229-3ebad9906119",
   "metadata": {},
   "outputs": [],
   "source": [
    "# set up environment\n",
    "# Initialize and constants\n",
    "\n",
    "load_dotenv(override=True)\n",
    "endpoint = os.getenv(\"ENDPOINT_URL\", \"https://engr-me4he8ha-eastus2.openai.azure.com/\")\n",
    "deployment = os.getenv(\"DEPLOYMENT_NAME\", \"gpt-4o-mini\")\n",
    "subscription_key = os.getenv(\"AZURE_OPENAI_API_KEY\")\n"
   ]
  },
  {
   "cell_type": "code",
   "execution_count": null,
   "id": "d8335b25-0317-4e6e-9655-590c24df93eb",
   "metadata": {},
   "outputs": [],
   "source": [
    "print(subscription_key)"
   ]
  },
  {
   "cell_type": "code",
   "execution_count": null,
   "id": "6e8dd16f-7d2b-48ae-aafd-e0d6bd6ba63b",
   "metadata": {},
   "outputs": [],
   "source": [
    "\n",
    "# Initialize Azure OpenAI client with key-based authentication\n",
    "client = AzureOpenAI(\n",
    "    azure_endpoint=endpoint,\n",
    "    api_key=subscription_key,\n",
    "    api_version=\"2025-01-01-preview\",\n",
    ")\n"
   ]
  },
  {
   "cell_type": "code",
   "execution_count": null,
   "id": "d915b2a3-1846-4f9a-94ea-4ce6cd550c85",
   "metadata": {},
   "outputs": [],
   "source": [
    "\n",
    "# IMAGE_PATH = \"YOUR_IMAGE_PATH\"\n",
    "# encoded_image = base64.b64encode(open(IMAGE_PATH, 'rb').read()).decode('ascii')\n",
    "\n",
    "# Prepare the chat prompt\n",
    "chat_prompt = [\n",
    "    {\n",
    "        \"role\": \"system\",\n",
    "        \"content\": [\n",
    "            {\n",
    "                \"type\": \"text\",\n",
    "                \"text\": \"You are an AI assistant that helps people find information.\"\n",
    "            }\n",
    "        ]\n",
    "    },\n",
    "    {\n",
    "        \"role\": \"user\",\n",
    "        \"content\": [\n",
    "            {\n",
    "                \"type\": \"text\",\n",
    "                \"text\": \"2+14\"\n",
    "            }\n",
    "        ]\n",
    "    },\n",
    "    {\n",
    "        \"role\": \"assistant\",\n",
    "        \"content\": [\n",
    "            {\n",
    "                \"type\": \"text\",\n",
    "                \"text\": \"I'm just a computer program, so I don't have feelings, but I'm here and ready to help you! How can I assist you today?\"\n",
    "            }\n",
    "        ]\n",
    "    }\n",
    "]\n"
   ]
  },
  {
   "cell_type": "code",
   "execution_count": null,
   "id": "397c2c47-f8d0-4bc6-a28f-589b52bf4371",
   "metadata": {},
   "outputs": [],
   "source": [
    "\n",
    "# Include speech result if speech is enabled\n",
    "messages = chat_prompt\n",
    "\n",
    "# Generate the completion\n",
    "completion = client.chat.completions.create(\n",
    "    model=deployment,\n",
    "    messages=messages,\n",
    "    max_tokens=6553,\n",
    "    temperature=0.7,\n",
    "    top_p=0.95,\n",
    "    frequency_penalty=0,\n",
    "    presence_penalty=0,\n",
    "    stop=None,\n",
    "    stream=False\n",
    ")\n",
    "\n",
    "# print(completionto_json())\n",
    "print(completion.choices[0].message.content)"
   ]
  },
  {
   "cell_type": "code",
   "execution_count": null,
   "id": "796af62c-0622-4c75-837c-e5f4cdb48932",
   "metadata": {},
   "outputs": [],
   "source": []
  }
 ],
 "metadata": {
  "kernelspec": {
   "display_name": "Python 3 (ipykernel)",
   "language": "python",
   "name": "python3"
  },
  "language_info": {
   "codemirror_mode": {
    "name": "ipython",
    "version": 3
   },
   "file_extension": ".py",
   "mimetype": "text/x-python",
   "name": "python",
   "nbconvert_exporter": "python",
   "pygments_lexer": "ipython3",
   "version": "3.11.13"
  }
 },
 "nbformat": 4,
 "nbformat_minor": 5
}
