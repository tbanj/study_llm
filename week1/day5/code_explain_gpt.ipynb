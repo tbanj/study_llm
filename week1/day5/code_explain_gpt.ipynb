{
 "cells": [
  {
   "cell_type": "code",
   "execution_count": 1,
   "id": "d63d730a-cf74-423e-9ef7-3662644bd72a",
   "metadata": {},
   "outputs": [],
   "source": [
    "# This is a tool to explain what a code snippet means and it's function using open ai gpt-4o-mini model\n",
    "\n",
    "# imports\n",
    "import os\n",
    "import requests\n",
    "from dotenv import load_dotenv\n",
    "from bs4 import BeautifulSoup\n",
    "from IPython.display import Markdown, display, update_display\n",
    "from openai import OpenAI"
   ]
  },
  {
   "cell_type": "code",
   "execution_count": 2,
   "id": "052156a3-4037-4dd6-af36-4e7d42c94b98",
   "metadata": {},
   "outputs": [],
   "source": [
    "# constants\n",
    "\n",
    "MODEL_GPT = 'gpt-4o-mini'"
   ]
  },
  {
   "cell_type": "code",
   "execution_count": 3,
   "id": "d1a78f4b-010a-48fb-ade7-4fb1024ab78e",
   "metadata": {},
   "outputs": [
    {
     "name": "stdout",
     "output_type": "stream",
     "text": [
      "API key looks good so far\n"
     ]
    }
   ],
   "source": [
    "# set up environment\n",
    "# Initialize and constants\n",
    "\n",
    "load_dotenv(override=True)\n",
    "api_key = os.getenv('OPENAI_API_KEY')\n",
    "\n",
    "if api_key and api_key.startswith('sk-proj-') and len(api_key)>10:\n",
    "    print(\"API key looks good so far\")\n",
    "else:\n",
    "    print(\"There might be a problem with your API key? Please visit the troubleshooting notebook!\")\n",
    "    \n",
    "MODEL = 'gpt-4o-mini'\n",
    "openai = OpenAI()"
   ]
  },
  {
   "cell_type": "code",
   "execution_count": 4,
   "id": "93ba34e4-7d0c-4aeb-91ab-375945c9fc5b",
   "metadata": {},
   "outputs": [],
   "source": [
    "# Define our system prompt - you can experiment with this later, changing the last sentence to 'Respond in markdown in Spanish.\"\n",
    "\n",
    "system_prompt = \"You are an assistant that analyzes what a provided code samples does. \\\n",
    "Please explain what this code does and why? provides a short summary, ignoring text that might be navigation related. \\\n",
    "try as much as possible not to exceed 1000 words. \\\n",
    "Respond in markdown.\""
   ]
  },
  {
   "cell_type": "code",
   "execution_count": 5,
   "id": "d3bcba9d-a0f1-4379-8057-195f7aa1a062",
   "metadata": {},
   "outputs": [],
   "source": [
    "# here is the question; type over this to ask something new\n",
    "\n",
    "question = \"\"\"\n",
    "Please explain what this code does and why:\n",
    "yield from {book.get(\"author\") for book in books if book.get(\"author\")}\n",
    "\"\"\""
   ]
  },
  {
   "cell_type": "code",
   "execution_count": 6,
   "id": "315c7c2b-8131-4382-ad01-eee446366666",
   "metadata": {},
   "outputs": [],
   "source": [
    "# A function that writes a User Prompt that asks for summaries of websites:\n",
    "\n",
    "def user_prompt_for(question):\n",
    "    user_prompt = f\"You are looking at a code sample provided\"\n",
    "    # user_prompt += \"\\n\"\n",
    "    user_prompt += f\"{question}\"\n",
    "    return user_prompt"
   ]
  },
  {
   "cell_type": "code",
   "execution_count": 7,
   "id": "a7aecabf-6b8d-4982-8eba-e298e8c80555",
   "metadata": {},
   "outputs": [],
   "source": [
    "# Format message content\n",
    "\n",
    "def messages_for(question):\n",
    "    return [\n",
    "        {\"role\": \"system\", \"content\": system_prompt},\n",
    "        {\"role\": \"user\", \"content\": user_prompt_for(question)}\n",
    "    ]"
   ]
  },
  {
   "cell_type": "code",
   "execution_count": 8,
   "id": "8b6bcd0e-a59c-4511-8e08-209377b27954",
   "metadata": {},
   "outputs": [],
   "source": [
    "# Get gpt-4o-mini to answer, with streaming\n",
    "def stream_code_explain(question):\n",
    "    stream = openai.chat.completions.create(model=MODEL_GPT, messages=messages_for(question),\n",
    "        # below code is use to make typewriter feature enable when returning the response\n",
    "        # if you want to make use of it in claude.ai you won't use this key                                    \n",
    "        stream=True)\n",
    "    response = \"\"\n",
    "    display_handle = display(Markdown(\"\"), display_id=True)\n",
    "    for chunk in stream:\n",
    "        response += chunk.choices[0].delta.content or ''\n",
    "        response = response.replace(\"```\",\"\").replace(\"markdown\", \"\")\n",
    "        update_display(Markdown(response), display_id=display_handle.display_id)"
   ]
  },
  {
   "cell_type": "code",
   "execution_count": 9,
   "id": "8afd6058-0fa6-4c08-b13d-00cf11d8ff58",
   "metadata": {},
   "outputs": [
    {
     "data": {
      "text/markdown": [
       "The provided code snippet uses Python's generator `yield` feature along with a set comprehension to extract the authors from a list of books. Here's a breakdown of its components and functionality:\n",
       "\n",
       "### Code Breakdown\n",
       "\n",
       "1. **`books`**: This is presumably a list (or any iterable) of dictionaries where each dictionary represents a book. Each book dictionary is expected to have an `\"author\"` key among other potential keys.\n",
       "\n",
       "2. **`book.get(\"author\")`**: This method is called on each `book` dictionary. The `get` method retrieves the value associated with the specified key (`\"author\"` in this case). If the key does not exist, `get` returns `None` instead of raising a KeyError.\n",
       "\n",
       "3. **Set Comprehension**: \n",
       "   - `{... for book in books if book.get(\"author\")}` creates a set that contains the values of the `\"author\"` key for each `book`.\n",
       "   - The `if book.get(\"author\")` part is a filter condition that ensures only books with a defined author (not `None`) are included in the set.\n",
       "\n",
       "4. **`yield from`**: \n",
       "   - This keyword is used to yield values from an iterable. In this case, it is yielding all elements of the set created from the set comprehension.\n",
       "   - Using `yield from` lets the generator yield each author one by one, allowing for efficient iteration over potentially large datasets without having to load everything into memory at once.\n",
       "\n",
       "### Summary\n",
       "\n",
       "The code effectively does the following:\n",
       "\n",
       "- It iterates over a collection of `books`, extracting the authors from each book's dictionary, but only if the author is present (not `None`).\n",
       "- It utilizes a set comprehension to ensure that each author is unique in the output (because sets do not allow duplicate values).\n",
       "- Finally, it uses `yield from` to yield each unique author in a generator-friendly manner.\n",
       "\n",
       "### Purpose\n",
       "\n",
       "This code could be used in scenarios where you need to obtain a list of unique authors from a collection of books, such as for summarizing data, generating reports, or processing information in larger applications. The use of a generator allows for efficiency, especially when dealing with potentially large lists of books, as it avoids creating an intermediate list of authors and streams results directly."
      ],
      "text/plain": [
       "<IPython.core.display.Markdown object>"
      ]
     },
     "metadata": {},
     "output_type": "display_data"
    }
   ],
   "source": [
    "stream_code_explain(question)"
   ]
  },
  {
   "cell_type": "code",
   "execution_count": null,
   "id": "3fc81f21-0d42-4872-8584-7c1b7c30dc91",
   "metadata": {},
   "outputs": [],
   "source": []
  }
 ],
 "metadata": {
  "kernelspec": {
   "display_name": "Python 3 (ipykernel)",
   "language": "python",
   "name": "python3"
  },
  "language_info": {
   "codemirror_mode": {
    "name": "ipython",
    "version": 3
   },
   "file_extension": ".py",
   "mimetype": "text/x-python",
   "name": "python",
   "nbconvert_exporter": "python",
   "pygments_lexer": "ipython3",
   "version": "3.11.13"
  }
 },
 "nbformat": 4,
 "nbformat_minor": 5
}
