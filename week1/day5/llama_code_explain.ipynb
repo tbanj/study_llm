{
 "cells": [
  {
   "cell_type": "code",
   "execution_count": null,
   "id": "ad6375d3-44a7-4389-a862-d91efc5ad141",
   "metadata": {},
   "outputs": [],
   "source": [
    "# This is a tool to explain what a code snippet means and it's function using ollama offline library\n",
    "# to interact with Ollama model\n",
    "\n",
    "# imports\n",
    "import os\n",
    "import requests\n",
    "from dotenv import load_dotenv\n",
    "from bs4 import BeautifulSoup\n",
    "from IPython.display import Markdown, display, update_display\n",
    "import ollama"
   ]
  },
  {
   "cell_type": "code",
   "execution_count": null,
   "id": "928c7fb1-fc1c-4011-96b6-71595d3285bf",
   "metadata": {},
   "outputs": [],
   "source": [
    "# constants\n",
    "\n",
    "MODEL_LLAMA = 'llama3.2'"
   ]
  },
  {
   "cell_type": "code",
   "execution_count": null,
   "id": "228767b1-24b5-478c-a2d0-f97b830aa8bd",
   "metadata": {},
   "outputs": [],
   "source": [
    "# Define our system prompt - you can experiment with this later, changing the last sentence to 'Respond in markdown in Spanish.\"\n",
    "\n",
    "system_prompt = \"You are an assistant that analyzes what a provided code samples does. \\\n",
    "Please explain what this code does and why? provides a short summary, ignoring text that might be navigation related. \\\n",
    "try as much as possible not to exceed 1000 words. \\\n",
    "Respond in markdown.\""
   ]
  },
  {
   "cell_type": "code",
   "execution_count": null,
   "id": "7ebc3601-be7c-4032-aa8a-e8a9141f2ea4",
   "metadata": {},
   "outputs": [],
   "source": [
    "# here is the question; type over this to ask something new\n",
    "\n",
    "question = \"\"\"\n",
    "Please explain what this code does and why:\n",
    "yield from {book.get(\"author\") for book in books if book.get(\"author\")}\n",
    "\"\"\""
   ]
  },
  {
   "cell_type": "code",
   "execution_count": null,
   "id": "e3086817-dfdb-4faf-9c21-349b3daa2394",
   "metadata": {},
   "outputs": [],
   "source": [
    "# A function that writes a User Prompt that asks for summaries of websites:\n",
    "\n",
    "def user_prompt_for(question):\n",
    "    user_prompt = f\"You are looking at a code sample provided\"\n",
    "    # user_prompt += \"\\n\"\n",
    "    user_prompt += f\"{question}\"\n",
    "    return user_prompt"
   ]
  },
  {
   "cell_type": "code",
   "execution_count": null,
   "id": "6675eb8d-79b7-4561-8db4-cd921f586381",
   "metadata": {},
   "outputs": [],
   "source": [
    "# Format message content\n",
    "\n",
    "def messages_for(question):\n",
    "    return [\n",
    "        {\"role\": \"system\", \"content\": system_prompt},\n",
    "        {\"role\": \"user\", \"content\": user_prompt_for(question)}\n",
    "    ]"
   ]
  },
  {
   "cell_type": "code",
   "execution_count": null,
   "id": "d958e8bb-ffbf-45a4-8b63-976add790ef2",
   "metadata": {},
   "outputs": [],
   "source": [
    "# Get gpt-4o-mini to answer, with streaming\n",
    "def ollama_code_explain(question):\n",
    "    stream = ollama.chat(model=MODEL_LLAMA, messages=messages_for(question),\n",
    "        # below code is use to make typewriter feature enable when returning the response\n",
    "        # then this available for chatgpt and ollama but in cluade.ai is in another form\n",
    "        stream=True)\n",
    "    display_handle = display(Markdown(\"\"), display_id=True)\n",
    "    # update_display(Markdown(stream['message']['content']), display_id=display_handle.display_id)\n",
    "    response =\"\"\n",
    "    for chunk in stream:\n",
    "        if 'message' in chunk and 'content' in chunk['message']:\n",
    "            response += chunk['message']['content'] or ''\n",
    "            response = response.replace(\"```\", \"\").replace(\"markdown\", \"\")\n",
    "            update_display(Markdown(response), display_id=display_handle.display_id)"
   ]
  },
  {
   "cell_type": "code",
   "execution_count": null,
   "id": "b0b96f31-13ed-4ba9-b493-146e5f80e918",
   "metadata": {},
   "outputs": [],
   "source": [
    "ollama_code_explain(question)"
   ]
  },
  {
   "cell_type": "code",
   "execution_count": null,
   "id": "d70e6859-4527-4883-beb8-2bc704f39795",
   "metadata": {},
   "outputs": [],
   "source": []
  }
 ],
 "metadata": {
  "kernelspec": {
   "display_name": "Python 3 (ipykernel)",
   "language": "python",
   "name": "python3"
  },
  "language_info": {
   "codemirror_mode": {
    "name": "ipython",
    "version": 3
   },
   "file_extension": ".py",
   "mimetype": "text/x-python",
   "name": "python",
   "nbconvert_exporter": "python",
   "pygments_lexer": "ipython3",
   "version": "3.11.13"
  }
 },
 "nbformat": 4,
 "nbformat_minor": 5
}
