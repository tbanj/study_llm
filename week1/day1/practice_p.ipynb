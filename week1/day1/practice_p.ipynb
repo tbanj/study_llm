{
 "cells": [
  {
   "cell_type": "code",
   "execution_count": 4,
   "id": "9fb6688e-4405-4cb8-b856-83895ee7ffea",
   "metadata": {},
   "outputs": [],
   "source": [
    "from math import sqrt"
   ]
  },
  {
   "cell_type": "code",
   "execution_count": 6,
   "id": "5ec05180-6232-43df-a548-2a987d284a88",
   "metadata": {},
   "outputs": [
    {
     "name": "stdout",
     "output_type": "stream",
     "text": [
      "4.0\n"
     ]
    }
   ],
   "source": [
    "# Using math.sqrt to calculate the square root of 16\n",
    "# result = math.sqrt(17)\n",
    "result = sqrt(16)\n",
    "print(result)  # Output: 4.0"
   ]
  },
  {
   "cell_type": "code",
   "execution_count": 7,
   "id": "854a3916-d04b-4545-acca-8a7744efc057",
   "metadata": {},
   "outputs": [
    {
     "name": "stdout",
     "output_type": "stream",
     "text": [
      "[1 2 3]\n"
     ]
    }
   ],
   "source": [
    "# Using numpy's array function\n",
    "import numpy as np\n",
    "\n",
    "my_array = np.array([1, 2, 3])\n",
    "print(my_array)  # Output: [1 2 3]"
   ]
  },
  {
   "cell_type": "code",
   "execution_count": 8,
   "id": "b9c666fa-bcd1-4f5d-bf1e-f300098ed3c3",
   "metadata": {},
   "outputs": [
    {
     "name": "stdout",
     "output_type": "stream",
     "text": [
      "Hello world Python is great\n"
     ]
    }
   ],
   "source": [
    "words = ['Hello', 'world', 'Python', 'is', 'great']\n",
    "sentence = \" \".join(words)\n",
    "print(sentence)  # Output: \"Hello world Python is great\""
   ]
  },
  {
   "cell_type": "code",
   "execution_count": 11,
   "id": "01719153-4cd7-4c94-ac32-580926dd6435",
   "metadata": {},
   "outputs": [
    {
     "name": "stdout",
     "output_type": "stream",
     "text": [
      "Hello\n",
      "world!\n",
      "world!\n"
     ]
    }
   ],
   "source": [
    "text = \"Hello, world!\"\n",
    "print(text[0:5])   # Output: \"Hello\"\n",
    "print(text[-6:])   # Output: \"world!\"\n",
    "print(text[7:])   # Output: \""
   ]
  },
  {
   "cell_type": "code",
   "execution_count": 12,
   "id": "a25b1150-8cf3-4206-903f-ac51d2734775",
   "metadata": {},
   "outputs": [
    {
     "name": "stdout",
     "output_type": "stream",
     "text": [
      "This is a string that is too long to fit on one line, so we continue it here without any breaks.\n"
     ]
    }
   ],
   "source": [
    "multi_line_string = \"This is a string that is too long to fit on one line, so we continue it \\\n",
    "here without any breaks.\"\n",
    "print(multi_line_string)"
   ]
  },
  {
   "cell_type": "code",
   "execution_count": 17,
   "id": "1cc48ca7-664d-4595-9075-2edc054d7c57",
   "metadata": {},
   "outputs": [
    {
     "name": "stdout",
     "output_type": "stream",
     "text": [
      "This is a string that is too long to fit on one line, we continue it \n",
      "by breaking it to another linehere without any breaks.\n"
     ]
    }
   ],
   "source": [
    "multi_line_string = \"This is a string that is too long to fit on one line, we continue it \\\n",
    "\\nby breaking it to another linehere without any breaks.\"\n",
    "print(multi_line_string)"
   ]
  },
  {
   "cell_type": "code",
   "execution_count": 18,
   "id": "f2fd37e9-fd0d-48c9-b61d-d38d1512903a",
   "metadata": {},
   "outputs": [
    {
     "name": "stdout",
     "output_type": "stream",
     "text": [
      "This is a string\n",
      "that contains multiple lines,\n",
      "and we don't need to use a backslash.\n",
      "It also handles quotes, like \"this one\" and 'that one'.\n"
     ]
    }
   ],
   "source": [
    "multi_line_quote = \"\"\"This is a string\n",
    "that contains multiple lines,\n",
    "and we don't need to use a backslash.\n",
    "It also handles quotes, like \"this one\" and 'that one'.\"\"\"\n",
    "print(multi_line_quote)"
   ]
  },
  {
   "cell_type": "code",
   "execution_count": 20,
   "id": "bebc62df-26ea-416b-a22c-a91c2adaaa46",
   "metadata": {},
   "outputs": [
    {
     "name": "stdout",
     "output_type": "stream",
     "text": [
      "This is a string\n",
      "that contains multiple lines,\n",
      "and we don't need to use a backslash.\n",
      "It also handles quotes, like \"this one\" and 'that one'.\n"
     ]
    }
   ],
   "source": [
    "multi_line_quote = '''This is a string\n",
    "that contains multiple lines,\n",
    "and we don't need to use a backslash.\n",
    "It also handles quotes, like \"this one\" and 'that one'.'''\n",
    "print(multi_line_quote)"
   ]
  },
  {
   "cell_type": "code",
   "execution_count": 27,
   "id": "72b0c69d-33f4-414a-b087-721e3a5506ab",
   "metadata": {},
   "outputs": [
    {
     "data": {
      "text/plain": [
       "'Hello, Wahabi!'"
      ]
     },
     "execution_count": 27,
     "metadata": {},
     "output_type": "execute_result"
    }
   ],
   "source": [
    "def greet(name):\n",
    "    \"\"\"\n",
    "    This function takes a name as input and returns a greeting string.\n",
    "\n",
    "    Parameters:\n",
    "    name (str): The name of the person to greet.\n",
    "\n",
    "    Returns:\n",
    "    str: A greeting message.\n",
    "    \"\"\"\n",
    "    # return f\"Hello, {name}!\"\n",
    "    return \"Hello, {}!\".format(name)\n",
    "greet(\"Wahabi\")\n"
   ]
  },
  {
   "cell_type": "code",
   "execution_count": 32,
   "id": "e8c8bd67-f200-481b-9264-8fa42ca990c6",
   "metadata": {},
   "outputs": [
    {
     "name": "stdout",
     "output_type": "stream",
     "text": [
      "apple\n",
      "banana\n",
      "['apple', 'banana', 'cherry', 'orange']\n",
      "['apple', 'cherry', 'orange']\n",
      "['apple', 'cherry', 'Guava']\n"
     ]
    },
    {
     "data": {
      "text/plain": [
       "['Guava']"
      ]
     },
     "execution_count": 32,
     "metadata": {},
     "output_type": "execute_result"
    }
   ],
   "source": [
    "# Creating a list of fruits\n",
    "fruits = [\"apple\", \"banana\", \"cherry\"]\n",
    "\n",
    "# Accessing items\n",
    "print(fruits[0])  # Output: apple\n",
    "print(fruits[1])  # Output: banana\n",
    "\n",
    "# Adding an item\n",
    "fruits.append(\"orange\")\n",
    "print(fruits)  # Output: ['apple', 'banana', 'cherry', 'orange']\n",
    "\n",
    "# Removing an item\n",
    "fruits.remove(\"banana\")\n",
    "print(fruits)  # Output: ['apple', 'cherry', 'orange']\n",
    "fruits[2]= \"Guava\"\n",
    "print(fruits)  # Output: ['apple', 'cherry', Guava']\n",
    "fruits[-1:]"
   ]
  },
  {
   "cell_type": "code",
   "execution_count": 34,
   "id": "5bd92e6a-6725-42fe-919c-ab7475e089e0",
   "metadata": {},
   "outputs": [
    {
     "name": "stdout",
     "output_type": "stream",
     "text": [
      "Alice\n",
      "25\n",
      "{'name': 'Alice', 'age': 25, 'city': 'New York', 'job': 'Engineer'}\n",
      "{'name': 'Alice', 'age': 25, 'city': 'San Francisco', 'job': 'Engineer'}\n"
     ]
    },
    {
     "data": {
      "text/plain": [
       "{'name': 'Alice',\n",
       " 'age': 25,\n",
       " 'city': 'San Francisco',\n",
       " 'job': 'Engineer',\n",
       " 'dob': '03-10-2025'}"
      ]
     },
     "execution_count": 34,
     "metadata": {},
     "output_type": "execute_result"
    }
   ],
   "source": [
    "# Creating a dictionary with some information about a person\n",
    "person = {\n",
    "    \"name\": \"Alice\",\n",
    "    \"age\": 25,\n",
    "    \"city\": \"New York\"\n",
    "}\n",
    "\n",
    "# Accessing values by key\n",
    "print(person[\"name\"])  # Output: Alice\n",
    "print(person[\"age\"])   # Output: 25\n",
    "\n",
    "# Adding a new key-value pair\n",
    "person[\"job\"] = \"Engineer\"\n",
    "print(person)  # Output: {'name': 'Alice', 'age': 25, 'city': 'New York', 'job': 'Engineer'}\n",
    "\n",
    "# Changing a value\n",
    "person[\"city\"] = \"San Francisco\"\n",
    "print(person)  # Output: {'name': 'Alice', 'age': 25, 'city': 'San Francisco', 'job': 'Engineer'}\n",
    "\n",
    "person[\"dob\"] = \"03-10-2025\"\n",
    "person"
   ]
  },
  {
   "cell_type": "code",
   "execution_count": 37,
   "id": "aa34d21d-b876-47d1-86e6-7d440c15e61f",
   "metadata": {},
   "outputs": [
    {
     "name": "stdout",
     "output_type": "stream",
     "text": [
      "Alice\n",
      "None\n",
      "USA\n"
     ]
    },
    {
     "data": {
      "text/plain": [
       "{'name': 'Alice',\n",
       " 'age': 25,\n",
       " 'city': 'San Francisco',\n",
       " 'job': 'Engineer',\n",
       " 'dob': '03-10-2025',\n",
       " 'state': 'California'}"
      ]
     },
     "execution_count": 37,
     "metadata": {},
     "output_type": "execute_result"
    }
   ],
   "source": [
    "# Using get() without a default value\n",
    "print(person.get(\"name\"))  # Output: Alice\n",
    "print(person.get(\"country\"))  # Output: None (since 'country' is not a key)\n",
    "\n",
    "# Using get() with a default value\n",
    "print(person.get(\"country\", \"USA\"))  # Output: USA (default value provided)\n",
    "person['state']= 'California'\n",
    "person"
   ]
  },
  {
   "cell_type": "code",
   "execution_count": 38,
   "id": "be02629b-2898-49c6-977c-30830fce11b7",
   "metadata": {},
   "outputs": [
    {
     "name": "stdout",
     "output_type": "stream",
     "text": [
      "{'blue', 'red', 'green', 'yellow'}\n",
      "{'blue', 'red', 'green', 'yellow'}\n",
      "{'blue', 'red', 'yellow'}\n"
     ]
    }
   ],
   "source": [
    "# Creating a set of colors\n",
    "colors = {\"red\", \"green\", \"blue\"}\n",
    "\n",
    "# Adding an item\n",
    "colors.add(\"yellow\")\n",
    "print(colors)  # Output: {'red', 'green', 'blue', 'yellow'}\n",
    "\n",
    "# Trying to add a duplicate item\n",
    "colors.add(\"red\")\n",
    "print(colors)  # Output: {'red', 'green', 'blue', 'yellow'} (no duplicate)\n",
    "\n",
    "# Removing an item\n",
    "colors.remove(\"green\")\n",
    "print(colors)  # Output: {'red', 'blue', 'yellow'}\n"
   ]
  },
  {
   "cell_type": "code",
   "execution_count": 44,
   "id": "a8ca01a0-b601-4d67-813f-c815e9188420",
   "metadata": {},
   "outputs": [
    {
     "name": "stdout",
     "output_type": "stream",
     "text": [
      "How are you doing\n"
     ]
    }
   ],
   "source": [
    "# Read the file using open()\n",
    "with open(\"test.txt\", \"r\", encoding=\"utf-8\") as file:\n",
    "    content = file.read()\n",
    "\n",
    "# Display the content\n",
    "print(content)\n"
   ]
  },
  {
   "cell_type": "code",
   "execution_count": 64,
   "id": "6512bd1e-e951-4e50-9a11-3e7295c79198",
   "metadata": {},
   "outputs": [
    {
     "name": "stdout",
     "output_type": "stream",
     "text": [
      "where are you from Ijebu Ode\n"
     ]
    }
   ],
   "source": [
    "file = open('test.txt', 'r', encoding='utf-8')\n",
    "print(file.read())\n",
    "file.close()"
   ]
  },
  {
   "cell_type": "code",
   "execution_count": 65,
   "id": "ac350dab-0ce3-4a73-9990-05744f4f91fc",
   "metadata": {},
   "outputs": [],
   "source": [
    "filem = open('testmi.txt', 'w', encoding='utf-8')\n",
    "filem.write(\"where are you from Ijebu Ode Talk\")\n",
    "filem.close()"
   ]
  },
  {
   "cell_type": "code",
   "execution_count": 54,
   "id": "1849bc84-3615-4974-befd-a1b3d2f8d76c",
   "metadata": {},
   "outputs": [],
   "source": [
    "with open('output.txt', 'w', encoding='utf-8') as file:\n",
    "    file.write(\"Hello, World!\")"
   ]
  },
  {
   "cell_type": "code",
   "execution_count": 66,
   "id": "6c78ed47-e184-40f2-a965-baf29304eaea",
   "metadata": {},
   "outputs": [],
   "source": [
    "with open('output.txt', 'a', encoding='utf-8') as file:\n",
    "    file.write(\"\\nThis is an appended line.\")"
   ]
  },
  {
   "cell_type": "code",
   "execution_count": 68,
   "id": "4705bb11-50be-4df2-b573-b5c80eefc8e0",
   "metadata": {},
   "outputs": [
    {
     "name": "stdout",
     "output_type": "stream",
     "text": [
      "Hello, World!\n",
      "This is an appended line.\n"
     ]
    }
   ],
   "source": [
    "with open('output.txt', 'r', encoding='utf-8') as file:\n",
    "    for line in file:\n",
    "        print(line.strip())  # Strip removes newline characters\n"
   ]
  },
  {
   "cell_type": "code",
   "execution_count": 72,
   "id": "94cf92b5-58a1-4c06-bb89-d81b869b614b",
   "metadata": {},
   "outputs": [
    {
     "name": "stdout",
     "output_type": "stream",
     "text": [
      "solutions/subfolder/example.txt\n"
     ]
    }
   ],
   "source": [
    "import os\n",
    "# Construct a file path\n",
    "# file_path = os.path.join('folder', 'subfolder', 'example.txt')\n",
    "file_path = os.path.join('solutions', 'subfolder','example.txt')\n",
    "print(file_path)"
   ]
  },
  {
   "cell_type": "code",
   "execution_count": 87,
   "id": "cbdc9e1d-e73a-4706-a336-28f48f5a191c",
   "metadata": {},
   "outputs": [
    {
     "name": "stdout",
     "output_type": "stream",
     "text": [
      "folder/subfolder/example.txt\n"
     ]
    }
   ],
   "source": [
    "from pathlib import Path\n",
    "\n",
    "# Construct a file path\n",
    "file_path = Path('folder') / 'subfolder' / 'example.txt'\n",
    "print(file_path)\n",
    "\n",
    "# Ensure the directory exists\n",
    "file_path.parent.mkdir(parents=True, exist_ok=True)\n",
    "\n",
    "# Check if a file exists\n",
    "if file_path.exists():\n",
    "    print(f\"{file_path} exists!\")\n"
   ]
  },
  {
   "cell_type": "code",
   "execution_count": 74,
   "id": "569d1e35-3d4b-4b3e-9471-8c99ac79f82b",
   "metadata": {},
   "outputs": [
    {
     "name": "stdout",
     "output_type": "stream",
     "text": [
      "['test.txt', 'output.txt', 'testmi.txt']\n"
     ]
    }
   ],
   "source": [
    "import glob\n",
    "\n",
    "# List all .txt files in the current directory\n",
    "txt_files = glob.glob('*.txt')\n",
    "print(txt_files)\n"
   ]
  },
  {
   "cell_type": "code",
   "execution_count": 76,
   "id": "afe94712-5c6b-409b-a709-1a48e6a5dd83",
   "metadata": {},
   "outputs": [
    {
     "data": {
      "text/plain": [
       "['test.txt',\n",
       " 'output.txt',\n",
       " 'testmi.txt',\n",
       " 'solutions/example.txt',\n",
       " 'community-contributions/resume.txt',\n",
       " 'community-contributions/Chat_Summary_Data/System_Prompt.txt',\n",
       " 'community-contributions/Chat_Summary_Data/Chat_Examples/Chat1.txt',\n",
       " 'community-contributions/Chat_Summary_Data/Chat_Examples/Chat3.txt',\n",
       " 'community-contributions/Chat_Summary_Data/Chat_Examples/Chat2.txt',\n",
       " 'community-contributions/llm-page-summarizer-with-pyppeteer/requirements.txt']"
      ]
     },
     "execution_count": 76,
     "metadata": {},
     "output_type": "execute_result"
    }
   ],
   "source": [
    "# List all .txt files in current directory and subdirectories\n",
    "all_txt_files = glob.glob('**/*.txt', recursive=True)\n",
    "all_txt_files\n"
   ]
  },
  {
   "cell_type": "code",
   "execution_count": 86,
   "id": "a855c137-dbd4-4744-b317-05b868786f02",
   "metadata": {},
   "outputs": [],
   "source": [
    "from pathlib import Path\n",
    "import glob\n",
    "\n",
    "# Define file paths using pathlib\n",
    "input_file = Path('data') / 'inputText.txt'\n",
    "output_file = Path('data') / 'outputText.txt'\n",
    "\n",
    "# Ensure the directory exists\n",
    "output_file.parent.mkdir(parents=True, exist_ok=True)"
   ]
  },
  {
   "cell_type": "code",
   "execution_count": 78,
   "id": "7aa610ee-51b0-4af0-ae38-556aef8f3062",
   "metadata": {},
   "outputs": [
    {
     "data": {
      "text/plain": [
       "PosixPath('data/input.txt')"
      ]
     },
     "execution_count": 78,
     "metadata": {},
     "output_type": "execute_result"
    }
   ],
   "source": [
    "input_file"
   ]
  },
  {
   "cell_type": "code",
   "execution_count": 79,
   "id": "230353be-3927-4bc6-8fb6-d8501e1696a9",
   "metadata": {},
   "outputs": [
    {
     "data": {
      "text/plain": [
       "PosixPath('data/output.txt')"
      ]
     },
     "execution_count": 79,
     "metadata": {},
     "output_type": "execute_result"
    }
   ],
   "source": [
    "output_file"
   ]
  },
  {
   "cell_type": "code",
   "execution_count": 83,
   "id": "67d0f046-a7f0-417c-906b-52c1e11214f8",
   "metadata": {},
   "outputs": [
    {
     "name": "stdout",
     "output_type": "stream",
     "text": [
      "folder/subfolder/example.txt\n"
     ]
    }
   ],
   "source": [
    "from pathlib import Path\n",
    "\n",
    "# Construct a file path\n",
    "file_path = Path('folder') / 'subfolder' / 'example.txt'\n",
    "print(file_path)\n",
    "\n",
    "# Check if a file exists\n",
    "if file_path.exists():\n",
    "    print(f\"{file_path} exists!\")\n"
   ]
  },
  {
   "cell_type": "code",
   "execution_count": 84,
   "id": "77217112-67bb-4f5e-b8bc-f51999fad911",
   "metadata": {},
   "outputs": [
    {
     "name": "stdout",
     "output_type": "stream",
     "text": [
      "folder/subfolder/example1.txt\n"
     ]
    }
   ],
   "source": [
    "from pathlib import Path\n",
    "\n",
    "# Construct a file path\n",
    "file_path = Path('folder') / 'subfolder' / 'example1.txt'\n",
    "print(file_path)\n",
    "\n",
    "# Check if a file exists\n",
    "if file_path.exists():\n",
    "    print(f\"{file_path} exists!\")\n"
   ]
  },
  {
   "cell_type": "code",
   "execution_count": 88,
   "id": "646ba1cf-4673-404d-837a-c12f41192518",
   "metadata": {},
   "outputs": [
    {
     "ename": "SyntaxError",
     "evalue": "incomplete input (4111995944.py, line 2)",
     "output_type": "error",
     "traceback": [
      "  \u001b[36mCell\u001b[39m\u001b[36m \u001b[39m\u001b[32mIn[88]\u001b[39m\u001b[32m, line 2\u001b[39m\n\u001b[31m    \u001b[39m\n    ^\n\u001b[31mSyntaxError\u001b[39m\u001b[31m:\u001b[39m incomplete input\n"
     ]
    }
   ],
   "source": [
    "class Dog:\n",
    "    "
   ]
  },
  {
   "cell_type": "code",
   "execution_count": 89,
   "id": "109d9c98-fc9b-44a3-881a-b7d6ecbc1478",
   "metadata": {},
   "outputs": [],
   "source": [
    "class Dog:\n",
    "    pass\n"
   ]
  },
  {
   "cell_type": "code",
   "execution_count": 90,
   "id": "0066da31-5502-453f-ab1f-2952fd26efb5",
   "metadata": {},
   "outputs": [],
   "source": [
    "class Dog:\n",
    "    def __init__(self, name, age):\n",
    "        self.name = name\n",
    "        self.age = age\n"
   ]
  },
  {
   "cell_type": "code",
   "execution_count": 108,
   "id": "581e3cb3-f872-46cf-beaf-577944ba6865",
   "metadata": {},
   "outputs": [
    {
     "name": "stdout",
     "output_type": "stream",
     "text": [
      "Your name is Wahab\n",
      "Kunle\n"
     ]
    }
   ],
   "source": [
    "class Dog:\n",
    "    name: str\n",
    "    age: int\n",
    "    # initializer or constructor\n",
    "    def __init__(self, name, age):\n",
    "        self.name = name\n",
    "        self.age = age\n",
    "    def getName(self):\n",
    "        return self.name\n",
    "    def inputName(self,name):\n",
    "        return name\n",
    "my_dog = Dog('Wahab', 10)\n",
    "print(f\"Your name is {my_dog.getName()}\" )\n",
    "print(my_dog.inputName('Kunle'))"
   ]
  },
  {
   "cell_type": "code",
   "execution_count": 109,
   "id": "7376a7bb-f66d-4ae9-9128-245b1bcf2e1b",
   "metadata": {},
   "outputs": [
    {
     "name": "stdout",
     "output_type": "stream",
     "text": [
      "2021 Toyota Camry\n",
      "The engine of the Camry is now running.\n"
     ]
    }
   ],
   "source": [
    "class Car:\n",
    "    def __init__(self, make, model, year):\n",
    "        self.make = make\n",
    "        self.model = model\n",
    "        self.year = year\n",
    "\n",
    "    def description(self):\n",
    "        return f\"{self.year} {self.make} {self.model}\"\n",
    "\n",
    "    def start_engine(self):\n",
    "        print(f\"The engine of the {self.model} is now running.\")\n",
    "\n",
    "# Creating a Car object\n",
    "my_car = Car(\"Toyota\", \"Camry\", 2021)\n",
    "\n",
    "# Accessing attributes and calling methods\n",
    "print(my_car.description())  # Output: 2021 Toyota Camry\n",
    "my_car.start_engine()        # Output: The engine of the Camry is now running.\n"
   ]
  },
  {
   "cell_type": "code",
   "execution_count": 110,
   "id": "80b785ae-5bdb-4866-9283-bf9d92a1e4df",
   "metadata": {},
   "outputs": [],
   "source": [
    "class Person:\n",
    "    def __init__(self, name, age):\n",
    "        self.name = name\n",
    "        self.age = age\n",
    "\n",
    "    def __repr__(self):\n",
    "        return f\"Person(name={self.name}, age={self.age})\"\n"
   ]
  },
  {
   "cell_type": "code",
   "execution_count": 111,
   "id": "5d1e01e7-d201-48c7-95b0-68609e871361",
   "metadata": {},
   "outputs": [
    {
     "name": "stdout",
     "output_type": "stream",
     "text": [
      "Object pickled successfully.\n"
     ]
    }
   ],
   "source": [
    "import pickle\n",
    "\n",
    "# Create an instance of the class\n",
    "person = Person(\"Alice\", 30)\n",
    "\n",
    "# Open a file in binary write mode\n",
    "with open(\"person.pkl\", \"wb\") as file:\n",
    "    pickle.dump(person, file)  # Serialize and write to file\n",
    "\n",
    "print(\"Object pickled successfully.\")\n"
   ]
  },
  {
   "cell_type": "code",
   "execution_count": 112,
   "id": "ff3849c8-a5e8-432f-8f65-81ee6f638bd8",
   "metadata": {},
   "outputs": [
    {
     "name": "stdout",
     "output_type": "stream",
     "text": [
      "Loaded object: Person(name=Alice, age=30)\n"
     ]
    }
   ],
   "source": [
    "# Open the file in binary read mode\n",
    "with open(\"person.pkl\", \"rb\") as file:\n",
    "    loaded_person = pickle.load(file)  # Deserialize and load\n",
    "\n",
    "print(\"Loaded object:\", loaded_person)\n"
   ]
  },
  {
   "cell_type": "code",
   "execution_count": 113,
   "id": "4bd15b26-20f5-4366-a298-1a72116c32b3",
   "metadata": {},
   "outputs": [
    {
     "name": "stdout",
     "output_type": "stream",
     "text": [
      "Data saved as JSON.\n"
     ]
    }
   ],
   "source": [
    "import json\n",
    "\n",
    "# Example dictionary\n",
    "data = {\"name\": \"Alice\", \"age\": 30, \"hobbies\": [\"reading\", \"cycling\"]}\n",
    "\n",
    "# Save to a JSON file\n",
    "with open(\"data.json\", \"w\") as file:\n",
    "    json.dump(data, file)\n",
    "\n",
    "print(\"Data saved as JSON.\")\n"
   ]
  },
  {
   "cell_type": "code",
   "execution_count": 114,
   "id": "582a8ba6-0ae5-4f2f-880c-3338ea48a7ed",
   "metadata": {},
   "outputs": [
    {
     "name": "stdout",
     "output_type": "stream",
     "text": [
      "Loaded JSON data: {'name': 'Alice', 'age': 30, 'hobbies': ['reading', 'cycling']}\n"
     ]
    }
   ],
   "source": [
    "# Read from the JSON file\n",
    "with open(\"data.json\", \"r\") as file:\n",
    "    loaded_data = json.load(file)\n",
    "\n",
    "print(\"Loaded JSON data:\", loaded_data)\n"
   ]
  },
  {
   "cell_type": "code",
   "execution_count": 115,
   "id": "4028b041-cec7-46ea-934e-c102cc296076",
   "metadata": {},
   "outputs": [
    {
     "name": "stdout",
     "output_type": "stream",
     "text": [
      "JSON String: {\"name\": \"Alice\", \"age\": 30, \"hobbies\": [\"reading\", \"cycling\"]}\n",
      "Python Object: {'name': 'Alice', 'age': 30, 'hobbies': ['reading', 'cycling']}\n"
     ]
    }
   ],
   "source": [
    "# Convert Python object to JSON string\n",
    "json_string = json.dumps(data)\n",
    "print(\"JSON String:\", json_string)\n",
    "\n",
    "# Convert JSON string back to Python object\n",
    "python_obj = json.loads(json_string)\n",
    "print(\"Python Object:\", python_obj)\n"
   ]
  },
  {
   "cell_type": "code",
   "execution_count": 116,
   "id": "e4b51241-c57a-4cc1-b1f0-f4d29e3d4574",
   "metadata": {},
   "outputs": [
    {
     "name": "stdout",
     "output_type": "stream",
     "text": [
      "Pickle Loaded: {'name': 'Alice', 'age': 30, 'hobbies': ['reading', 'cycling']}\n",
      "JSON Loaded: {'name': 'Alice', 'age': 30, 'hobbies': ['reading', 'cycling']}\n"
     ]
    }
   ],
   "source": [
    "# Pickling example\n",
    "with open(\"data.pkl\", \"wb\") as f:\n",
    "    pickle.dump(data, f)  # Save as binary\n",
    "\n",
    "with open(\"data.pkl\", \"rb\") as f:\n",
    "    loaded_data = pickle.load(f)  # Load from binary\n",
    "print(\"Pickle Loaded:\", loaded_data)\n",
    "\n",
    "# JSON example\n",
    "with open(\"data.json\", \"w\") as f:\n",
    "    json.dump(data, f)  # Save as JSON\n",
    "\n",
    "with open(\"data.json\", \"r\") as f:\n",
    "    loaded_data = json.load(f)  # Load from JSON\n",
    "print(\"JSON Loaded:\", loaded_data)\n"
   ]
  },
  {
   "cell_type": "code",
   "execution_count": 117,
   "id": "2baa02a0-eddd-41c5-89ba-6a670f582f74",
   "metadata": {},
   "outputs": [],
   "source": [
    "def number_generator():\n",
    "    for i in range(1, 6):\n",
    "        yield i\n"
   ]
  },
  {
   "cell_type": "code",
   "execution_count": 118,
   "id": "ce415c19-77f8-40e1-b949-441e41c34b68",
   "metadata": {},
   "outputs": [
    {
     "name": "stdout",
     "output_type": "stream",
     "text": [
      "1\n",
      "2\n",
      "3\n",
      "4\n",
      "5\n"
     ]
    }
   ],
   "source": [
    "# Create a generator\n",
    "gen = number_generator()\n",
    "\n",
    "# Use a loop to get values from the generator\n",
    "for number in gen:\n",
    "    print(number)\n"
   ]
  },
  {
   "cell_type": "code",
   "execution_count": 119,
   "id": "c883adab-3473-4fec-8e4d-7ea92b7a2016",
   "metadata": {},
   "outputs": [
    {
     "name": "stdout",
     "output_type": "stream",
     "text": [
      "1\n",
      "2\n"
     ]
    }
   ],
   "source": [
    "gen = number_generator()\n",
    "print(next(gen))  # Output: 1\n",
    "print(next(gen))  # Output: 2\n",
    "# Keep calling next until you get a StopIteration error\n"
   ]
  },
  {
   "cell_type": "code",
   "execution_count": 120,
   "id": "83b64467-a272-4c71-a935-69f28fcb9575",
   "metadata": {},
   "outputs": [
    {
     "name": "stdout",
     "output_type": "stream",
     "text": [
      "1\n",
      "2\n"
     ]
    }
   ],
   "source": [
    "def infinite_generator():\n",
    "    i = 1\n",
    "    while True:\n",
    "        yield i\n",
    "        i += 1\n",
    "\n",
    "# Using the generator\n",
    "gen = infinite_generator()\n",
    "print(next(gen))  # Output: 1\n",
    "print(next(gen))  # Output: 2\n",
    "# Keep calling `next(gen)` to get the next number in the sequence.\n"
   ]
  },
  {
   "cell_type": "code",
   "execution_count": 123,
   "id": "81782e66-0587-4b88-93be-43916dd479cb",
   "metadata": {},
   "outputs": [
    {
     "name": "stdout",
     "output_type": "stream",
     "text": [
      "1\n",
      "2\n",
      "3\n",
      "4\n",
      "5\n"
     ]
    }
   ],
   "source": [
    "def infinite_generator():\n",
    "    i = 1\n",
    "    while True and i<6:\n",
    "        yield i\n",
    "        i += 1\n",
    "\n",
    "# Using the generator\n",
    "gen = infinite_generator()\n",
    "# Use a loop to get values from the generator\n",
    "for number in gen:\n",
    "    print(number)\n"
   ]
  },
  {
   "cell_type": "code",
   "execution_count": 160,
   "id": "14d8b72d-8fa1-4732-b0e2-3da242a01529",
   "metadata": {},
   "outputs": [],
   "source": [
    "# book1 = {\"title\": \"Great Expectations\", \"author\": \"Charles Dickens\"}\n",
    "# book2 = {\"title\": \"Bleak House\", \"author\": \"Charles Dickens\"}\n",
    "# book3 = {\"title\": \"An Book By No Author\"}\n",
    "# book4 = {\"title\": \"Moby Dick\", \"author\": \"Herman Melville\"}\n",
    "\n",
    "# books = [book1, book2, book3, book4]\n",
    "class book_test():\n",
    "    title:str\n",
    "    author:str\n",
    "    def __init__(self,title,author=None):\n",
    "        self.title = title\n",
    "        self.author = author\n",
    "\n",
    "    def has_author(self):\n",
    "        return self.author is not None\n",
    "        \n",
    "    def get_title(self):\n",
    "        return self.title\n",
    "    def name(self):\n",
    "        return {'title': self.title, 'author': self.title}\n",
    "\n",
    "\n",
    "# book_test1 = book_test('Ade Goes to School', 'Alabi Temitope')\n",
    "# book_test1.has_author()\n",
    "# book_test1.name()"
   ]
  },
  {
   "cell_type": "code",
   "execution_count": 165,
   "id": "51f10a78-a2da-4ea6-8c83-eaeaa1c6bcf4",
   "metadata": {},
   "outputs": [
    {
     "name": "stdout",
     "output_type": "stream",
     "text": [
      "Alabi Temitope\n",
      "Dele\n"
     ]
    }
   ],
   "source": [
    "class bookShelf():\n",
    "    def __init__(self):\n",
    "        self.book_tests = []\n",
    "\n",
    "    def add_books(self,book):\n",
    "        self.book_tests.append(book)\n",
    "\n",
    "    def all_books(self):\n",
    "        list =[]\n",
    "        for book in self.book_tests:\n",
    "            list.append(f\"{book.title} by {book.author}\")\n",
    "        return list\n",
    "\n",
    "    def unique_authors(self):\n",
    "        seen = set()\n",
    "        for book in self.book_tests:\n",
    "            if book.has_author() and book.author not in seen:\n",
    "                seen.add(book.author)\n",
    "                yield book.author\n",
    "\n",
    "b1= book_test('Ade Goes to School', 'Alabi Temitope') \n",
    "b2= book_test('Animal Farm')\n",
    "b3= book_test('Bola Kale home','Dele')\n",
    "b4= book_test('Lion and the Jewel', 'Alabi Temitope')\n",
    "b5= book_test('Journey to America', 'Alabi Temitope')\n",
    "\n",
    "\n",
    "# using the 2nd class bookShelf class\n",
    "shelf= bookShelf()\n",
    "shelf.add_books(b1)\n",
    "shelf.add_books(b2)\n",
    "shelf.add_books(b3)\n",
    "shelf.add_books(b4)\n",
    "shelf.add_books(b5)\n",
    "item =shelf.all_books()\n",
    "item\n",
    "\n",
    "# for unique book\n",
    "for unique_author in shelf.unique_authors():\n",
    "    print(f\"{unique_author}\")"
   ]
  },
  {
   "cell_type": "code",
   "execution_count": 205,
   "id": "2eab03f7-d91e-40e7-bf9f-90bacbb9c9d9",
   "metadata": {},
   "outputs": [
    {
     "name": "stdout",
     "output_type": "stream",
     "text": [
      "Alabi Temitope\n",
      "Dele\n",
      " \n",
      "below is using one line of code to get all authors alone\n",
      "\n",
      "Alabi Temitope\n",
      "Dele\n",
      "Alabi Temitope\n",
      "Alabi Temitope\n",
      "  \n",
      " \n",
      "below is using one line of code to get all titles alone\n",
      "Ade Goes to School\n",
      "Animal Farm\n",
      "Bola Kale home\n",
      "Lion and the Jewel\n",
      "Journey to America\n"
     ]
    }
   ],
   "source": [
    "class bookShelfObj():\n",
    "    def __init__(self):\n",
    "        self.book_tests = []\n",
    "\n",
    "    def add_books(self,book):\n",
    "        self.book_tests.append({'title': book.title, 'author': book.author})\n",
    "\n",
    "    def all_books(self):\n",
    "        list =[]\n",
    "        for book in self.book_tests:\n",
    "            # print(book['title'])\n",
    "            list.append(book)\n",
    "        return list\n",
    "\n",
    "    def unique_authors(self):\n",
    "        seen = set()\n",
    "        for book in self.book_tests:\n",
    "            # print(book.get('author'))\n",
    "            if book.get('author') and book.get('author') not in seen:\n",
    "                seen.add(book['author'])\n",
    "                yield book['author']\n",
    "\n",
    "    def real_authors(self):\n",
    "        for book in self.book_tests:\n",
    "            # print(book.get('author'))\n",
    "            if book.get('author') and book.get('author') :\n",
    "                yield book['author']\n",
    "\n",
    "    def unique_authors_one_line(self):\n",
    "        yield from [book.get('author') for book in self.book_tests if book.get('author')]\n",
    "\n",
    "    def unique_titles_one_line(self):\n",
    "        yield from [book.get('title') for book in self.book_tests if book.get('title')]\n",
    "\n",
    "b1= book_test('Ade Goes to School', 'Alabi Temitope') \n",
    "b2= book_test('Animal Farm')\n",
    "b3= book_test('Bola Kale home','Dele')\n",
    "b4= book_test('Lion and the Jewel', 'Alabi Temitope')\n",
    "b5= book_test('Journey to America', 'Alabi Temitope')\n",
    "\n",
    "\n",
    "# using the 2nd class bookShelf class\n",
    "shelfObj= bookShelfObj()\n",
    "shelfObj.add_books(b1)\n",
    "shelfObj.add_books(b2)\n",
    "shelfObj.add_books(b3)\n",
    "shelfObj.add_books(b4)\n",
    "shelfObj.add_books(b5)\n",
    "item =shelfObj.all_books()\n",
    "# item\n",
    "\n",
    "# for unique book\n",
    "shelfObj.unique_authors()\n",
    "for unique_author in shelfObj.unique_authors():\n",
    "    print(f\"{unique_author}\")\n",
    "\n",
    "print(''' \n",
    "below is using one line of code to get all authors alone\n",
    "''')\n",
    "for one_line_auth in shelfObj.unique_authors_one_line():\n",
    "    print(f\"{one_line_auth}\")\n",
    "\n",
    "lineTitle =\"  \\n \\nbelow is using one line of code to get all titles alone\"\n",
    "print(lineTitle)\n",
    "for one_line_title in shelfObj.unique_titles_one_line():\n",
    "    print(f\"{one_line_title}\")"
   ]
  },
  {
   "cell_type": "code",
   "execution_count": 1,
   "id": "e19257ba-2b6a-42b2-acf3-046852f15ad0",
   "metadata": {},
   "outputs": [
    {
     "name": "stdout",
     "output_type": "stream",
     "text": [
      "hello\n"
     ]
    }
   ],
   "source": [
    "print(\"hello\")"
   ]
  },
  {
   "cell_type": "code",
   "execution_count": null,
   "id": "c244de8a-a888-4e9a-8841-d06cd51c3342",
   "metadata": {},
   "outputs": [],
   "source": []
  }
 ],
 "metadata": {
  "kernelspec": {
   "display_name": "Python 3 (ipykernel)",
   "language": "python",
   "name": "python3"
  },
  "language_info": {
   "codemirror_mode": {
    "name": "ipython",
    "version": 3
   },
   "file_extension": ".py",
   "mimetype": "text/x-python",
   "name": "python",
   "nbconvert_exporter": "python",
   "pygments_lexer": "ipython3",
   "version": "3.11.13"
  }
 },
 "nbformat": 4,
 "nbformat_minor": 5
}
