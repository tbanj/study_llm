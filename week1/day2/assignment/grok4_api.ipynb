{
 "cells": [
  {
   "cell_type": "code",
   "execution_count": null,
   "id": "44ca00c0-2494-48e7-ae19-7315c21d5a65",
   "metadata": {},
   "outputs": [],
   "source": [
    "# imports\n",
    "\n",
    "import os\n",
    "import requests\n",
    "from dotenv import load_dotenv\n",
    "from bs4 import BeautifulSoup\n",
    "from IPython.display import Markdown, display"
   ]
  },
  {
   "cell_type": "code",
   "execution_count": null,
   "id": "392d81ad-0296-4f8b-a069-d3f4e3c6d6c3",
   "metadata": {},
   "outputs": [],
   "source": [
    "# import os\n",
    "# from dotenv import load_dotenv\n",
    "# from openai import OpenAI\n",
    "\n",
    "# # Load environment variables from .env file\n",
    "# load_dotenv()\n",
    "\n",
    "# # Initialize the OpenAI client with xAI API base URL and API key\n",
    "# client = OpenAI(\n",
    "#     api_key=os.getenv(\"XAI_API_KEY\"),\n",
    "#     base_url=\"https://api.x.ai/v1\"\n",
    "# )\n",
    "\n",
    "# # Assuming 'messages' is defined elsewhere (e.g., a list of message dictionaries)\n",
    "# # Example: messages = [{\"role\": \"user\", \"content\": \"Hello, Grok!\"}]\n",
    "# response = client.chat.completions.create(\n",
    "#     model=\"grok-beta\",  # Use a Grok model, e.g., 'grok-beta' or 'grok-3'\n",
    "#     messages=messages\n",
    "# )\n",
    "\n",
    "# # Print the response content\n",
    "# print(response.choices[0].message.content)"
   ]
  },
  {
   "cell_type": "code",
   "execution_count": null,
   "id": "7f55a362-4680-433a-87e7-9701ce7d0974",
   "metadata": {},
   "outputs": [],
   "source": [
    "import os\n",
    "from dotenv import load_dotenv\n",
    "from openai import OpenAI\n",
    "\n",
    "# Load environment variables from .env file\n",
    "load_dotenv(override=True)\n",
    "\n",
    "grok_key=os.getenv(\"GROK_API_KEY\")\n"
   ]
  },
  {
   "cell_type": "code",
   "execution_count": null,
   "id": "bbaec6ba-4546-410f-87ac-abc8e8562ded",
   "metadata": {},
   "outputs": [],
   "source": [
    "\n",
    "# Initialize the OpenAI client with xAI API base URL and API key\n",
    "client = OpenAI(\n",
    "    api_key=grok_key,\n",
    "    base_url=\"https://api.x.ai/v1\"\n",
    ")\n",
    "\n",
    "# Send chat completion request\n",
    "response = client.chat.completions.create(\n",
    "    model=\"grok-4-latest\",\n",
    "    messages=[\n",
    "        {\n",
    "            \"role\": \"system\",\n",
    "            \"content\": \"You are a test assistant.\"\n",
    "        },\n",
    "        {\n",
    "            \"role\": \"user\",\n",
    "            \"content\": \"What is the current weather in Lagos\"\n",
    "        }\n",
    "    ],\n",
    "    stream=False,\n",
    "    temperature=0\n",
    ")\n",
    "\n",
    "# Print the response content\n",
    "# print(response.choices[0].message.content)"
   ]
  },
  {
   "cell_type": "code",
   "execution_count": null,
   "id": "6e9be7a4-de33-4687-93a0-f79f424b587e",
   "metadata": {},
   "outputs": [],
   "source": []
  }
 ],
 "metadata": {
  "kernelspec": {
   "display_name": "Python 3 (ipykernel)",
   "language": "python",
   "name": "python3"
  },
  "language_info": {
   "codemirror_mode": {
    "name": "ipython",
    "version": 3
   },
   "file_extension": ".py",
   "mimetype": "text/x-python",
   "name": "python",
   "nbconvert_exporter": "python",
   "pygments_lexer": "ipython3",
   "version": "3.11.13"
  }
 },
 "nbformat": 4,
 "nbformat_minor": 5
}
