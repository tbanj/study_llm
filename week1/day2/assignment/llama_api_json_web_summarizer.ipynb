{
 "cells": [
  {
   "cell_type": "code",
   "execution_count": null,
   "id": "e8fe0b4f-5ebc-42ef-98a2-fa748a6b9bd6",
   "metadata": {},
   "outputs": [],
   "source": [
    "''' summarize a webpage to use an Open Source model running locally via Ollama package downloaded \n",
    "and connecting to Ollama REST API using local server \n",
    "'''\n",
    "import requests\n",
    "from bs4 import BeautifulSoup\n",
    "from IPython.display import Markdown, display\n",
    "import ollama"
   ]
  },
  {
   "cell_type": "code",
   "execution_count": null,
   "id": "d86acd80-aa60-4ad8-a729-d8a8c95786f0",
   "metadata": {},
   "outputs": [],
   "source": [
    "# using Ollama API\n",
    "# Constants\n",
    "\n",
    "OLLAMA_API = \"http://localhost:11434/api/chat\"\n",
    "HEADERS = {\"Content-Type\": \"application/json\"}\n",
    "MODEL = \"llama3.2\""
   ]
  },
  {
   "cell_type": "code",
   "execution_count": null,
   "id": "86e686e5-34c2-413a-9aca-0fd8e66fa160",
   "metadata": {},
   "outputs": [],
   "source": [
    "# Create a messages list \n",
    "\n",
    "# messages = [\n",
    "#     {\"role\": \"user\", \"content\": \"Describe some of the business applications of Generative AI\"}\n",
    "# ]"
   ]
  },
  {
   "cell_type": "code",
   "execution_count": null,
   "id": "c073134f-9101-445b-821e-2912042d9e55",
   "metadata": {},
   "outputs": [],
   "source": [
    "# payload = {\n",
    "#         \"model\": MODEL,\n",
    "#         \"messages\": messages,\n",
    "#         \"stream\": False\n",
    "#     }"
   ]
  },
  {
   "cell_type": "code",
   "execution_count": null,
   "id": "c2325491-729a-4d09-83b5-aa8d5107c982",
   "metadata": {},
   "outputs": [],
   "source": [
    "# response = requests.post(OLLAMA_API, json=payload, headers=HEADERS)\n",
    "# print(response.json()['message']['content'])\n",
    "\n",
    "class Website:\n",
    "    url: str\n",
    "    title:str\n",
    "    text:str\n",
    "    def __init__(self, url):\n",
    "        \"\"\"\n",
    "        Create this Website object from the given url using the BeautifulSoup library\n",
    "        \"\"\"\n",
    "        self.url = url\n",
    "        response = requests.get(url)\n",
    "        soup = BeautifulSoup(response.content, 'html.parser')\n",
    "        self.title = soup.title.string if soup.title else \"No title found\"\n",
    "        for irrelevant in soup.body([\"script\", \"style\", \"img\", \"input\"]):\n",
    "            irrelevant.decompose()\n",
    "        self.text = soup.body.get_text(separator=\"\\n\", strip=True)"
   ]
  },
  {
   "cell_type": "code",
   "execution_count": null,
   "id": "7d7cb06c-ddab-458d-b1b0-1de40173722b",
   "metadata": {},
   "outputs": [],
   "source": [
    "# system prompt\n",
    "\n",
    "system_prompt = \"You are an assistant that analyzes the contents of a website \\\n",
    "and provides a short summary, ignoring text that might be navigation related. \\\n",
    "Respond in markdown.\"\n",
    "\n",
    "\n",
    "# user prompt\n",
    "\n",
    "def user_prompt_for(website):\n",
    "    user_prompt = f\"You are looking at a website titled {website.title}\"\n",
    "    user_prompt += \"\\nThe contents of this website is as follows; \\\n",
    "\\nPlease provide a short summary of this website in markdown. \\\n",
    "\\nIf it includes news or announcements, then summarize these too.\\n\\n\"\n",
    "    user_prompt += website.text\n",
    "    return user_prompt"
   ]
  },
  {
   "cell_type": "code",
   "execution_count": null,
   "id": "1bd4bf03-1b61-461c-9552-6bdbcda55acc",
   "metadata": {},
   "outputs": [],
   "source": [
    "def messages_for(website):\n",
    "    return [\n",
    "        {\"role\": \"system\", \"content\": system_prompt},\n",
    "        {\"role\": \"user\", \"content\": user_prompt_for(website)}\n",
    "    ]"
   ]
  },
  {
   "cell_type": "code",
   "execution_count": null,
   "id": "21da74f7-e96b-41a7-a0e5-d367f80e6450",
   "metadata": {},
   "outputs": [],
   "source": [
    "# payload = {\n",
    "#         \"model\": MODEL,\n",
    "#         \"messages\": messages_for(website),\n",
    "#         \"stream\": False\n",
    "#     }\n",
    "\n",
    "def payload(website):\n",
    "    return {\n",
    "        \"model\": MODEL,\n",
    "        \"messages\": messages_for(website),\n",
    "        \"stream\": False\n",
    "    }"
   ]
  },
  {
   "cell_type": "code",
   "execution_count": null,
   "id": "e768693e-6ed7-4811-a03f-24819caef020",
   "metadata": {},
   "outputs": [],
   "source": [
    "def summarize(url):\n",
    "    website = Website(url)\n",
    "    \n",
    "    # response = ollama_via_openai.chat.completions.create(\n",
    "    # model=MODEL,\n",
    "    # messages=messages_for(website))\n",
    "\n",
    "    response = requests.post(OLLAMA_API, json=payload(website), headers=HEADERS)\n",
    "    return response.json()['message']['content']"
   ]
  },
  {
   "cell_type": "code",
   "execution_count": null,
   "id": "60aef3ee-a0aa-44e7-8554-5fc36dff2074",
   "metadata": {},
   "outputs": [],
   "source": [
    "summarize(\"https://edwarddonner.com\")"
   ]
  },
  {
   "cell_type": "code",
   "execution_count": null,
   "id": "47fcb957-f3c0-4d26-9114-17dc4fd3a0b0",
   "metadata": {},
   "outputs": [],
   "source": []
  }
 ],
 "metadata": {
  "kernelspec": {
   "display_name": "Python 3 (ipykernel)",
   "language": "python",
   "name": "python3"
  },
  "language_info": {
   "codemirror_mode": {
    "name": "ipython",
    "version": 3
   },
   "file_extension": ".py",
   "mimetype": "text/x-python",
   "name": "python",
   "nbconvert_exporter": "python",
   "pygments_lexer": "ipython3",
   "version": "3.11.13"
  }
 },
 "nbformat": 4,
 "nbformat_minor": 5
}
