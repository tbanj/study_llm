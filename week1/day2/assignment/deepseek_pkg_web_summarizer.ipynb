{
 "cells": [
  {
   "cell_type": "code",
   "execution_count": 12,
   "id": "c9f77e60-1e73-4dff-ad6c-b6d8232a5062",
   "metadata": {},
   "outputs": [],
   "source": [
    "''' summarize a webpage to use an Open Source model running locally via Ollama downloaded package and \n",
    "usingrather than OpenAI comment\n",
    "'''\n",
    "import requests\n",
    "from bs4 import BeautifulSoup\n",
    "from IPython.display import Markdown, display\n",
    "import ollama"
   ]
  },
  {
   "cell_type": "code",
   "execution_count": 20,
   "id": "6d122f68-ab67-4ac6-9ca8-d5f43d8f7ef1",
   "metadata": {},
   "outputs": [],
   "source": [
    "# Constants\n",
    "\n",
    "MODEL = \"deepseek-r1:1.5b\""
   ]
  },
  {
   "cell_type": "code",
   "execution_count": 21,
   "id": "be675d15-d359-463d-bbd1-7d12112d1610",
   "metadata": {},
   "outputs": [],
   "source": [
    "class Website:\n",
    "    url: str\n",
    "    title:str\n",
    "    text:str\n",
    "    def __init__(self, url):\n",
    "        \"\"\"\n",
    "        Create this Website object from the given url using the BeautifulSoup library\n",
    "        \"\"\"\n",
    "        self.url = url\n",
    "        response = requests.get(url)\n",
    "        soup = BeautifulSoup(response.content, 'html.parser')\n",
    "        self.title = soup.title.string if soup.title else \"No title found\"\n",
    "        for irrelevant in soup.body([\"script\", \"style\", \"img\", \"input\", \"think\"]):\n",
    "            irrelevant.decompose()\n",
    "        self.text = soup.body.get_text(separator=\"\\n\", strip=True)"
   ]
  },
  {
   "cell_type": "code",
   "execution_count": 22,
   "id": "0d11d8b5-c3a6-4090-a2b3-03118bae59b8",
   "metadata": {},
   "outputs": [],
   "source": [
    "# system prompt\n",
    "\n",
    "system_prompt = \"You are an assistant that analyzes the contents of a website \\\n",
    "and provides a short summary, ignoring text that might be navigation related. \\\n",
    "Respond in markdown.\"\n",
    "\n",
    "\n",
    "# user prompt\n",
    "\n",
    "def user_prompt_for(website):\n",
    "    user_prompt = f\"You are looking at a website titled {website.title}\"\n",
    "    user_prompt += \"\\nThe contents of this website is as follows; \\\n",
    "\\nPlease provide a short summary of this website in markdown. \\\n",
    "\\nIf it includes news or announcements, then summarize these too.\\n\\n\"\n",
    "    user_prompt += website.text\n",
    "    return user_prompt"
   ]
  },
  {
   "cell_type": "code",
   "execution_count": 23,
   "id": "c02958ea-7fb1-4dec-8a3e-8013ec1c047c",
   "metadata": {},
   "outputs": [],
   "source": [
    "def messages_for(website):\n",
    "    return [\n",
    "        {\"role\": \"system\", \"content\": system_prompt},\n",
    "        {\"role\": \"user\", \"content\": user_prompt_for(website)}\n",
    "    ]"
   ]
  },
  {
   "cell_type": "code",
   "execution_count": 24,
   "id": "e84a1033-ff75-4047-987d-1f314a8011c0",
   "metadata": {},
   "outputs": [],
   "source": [
    "def summarize(url):\n",
    "    website = Website(url)\n",
    "    messages = messages_for(website)\n",
    "    response = ollama.chat(model=MODEL, messages=messages)\n",
    "    return response['message']['content']"
   ]
  },
  {
   "cell_type": "code",
   "execution_count": 25,
   "id": "e0285d03-e0ce-4740-a468-164a2f0622c7",
   "metadata": {},
   "outputs": [
    {
     "data": {
      "text/plain": [
       "'<think>\\nOkay, so I need to summarize this website. Let\\'s see what it has.\\n\\nFirst, the main sections are Home, Connect Four, Outsmart, and An arena that pits LLMs against each other in a battle of diplomacy and deviousness. These seem like features or platforms. The About section lists some topics like posts, code writing, music production, etc., so maybe it\\'s an online community for developers.\\n\\nThere are links to Connect Four, Outsmart, and another arena, which sounds like a game or platform. The About also mentions \"Get in touch\" with contact info, website, and social media. There\\'s also a newsletter subscription section, which is useful for staying updated on stuff.\\n\\nThe structure seems similar to some other online communities, but I need to make it concise without diving into details. So the summary should mention multiple platforms related to AI applications, developer support, and community engagement.\\n\\nWait, does \"Outsmart\" have anything specific? Maybe something like a platform where LLMs are used for various purposes, not just generating content but more strategic interactions. Connect Four could be a game that\\'s part of the community setup or an interactive feature.\\n\\nThe About section is about developers, which makes sense since it links to edwarddonner.com. The newsletter suggests they have readers who stay updated on topics related to AI and the platform they\\'re using.\\n\\nI should avoid technical jargon unless it\\'s explained in the summary. Maybe use terms like \"AI applications,\" \"developer support,\" \"chatting with me for more!\" as well as a call to action via social media.\\n\\nLet me piece this together: mention multiple platforms, focus on AI use, developer help, community engagement through newsletter, and clear contact info.\\n</think>\\n\\nThe website focuses on multiple platforms centered around AI applications, aimed at developers seeking support. Key sections include:\\n\\n1. **AI Development Platforms**: Features like Connect Four and Outsmart offer interactive environments or strategic tools for LLMs in various contexts.\\n\\n2. **Developer Support**: Provides assistance through the About section, which links to edwarddonner.com, offering help with coding, music production, and more.\\n\\n3. **Community Engagement**: A newsletter is available for readers, encouraging them to stay updated on AI-related topics.\\n\\n4. **Contact Information**: Includes social media links for direct communication.\\n\\n5. **Newsletter**: Encourages engagement by providing a platform for developers interested in exploring AI applications.\\n\\nThe summary highlights multiple AI-focused platforms, developer support, community interaction via newsletters, and clear contact channels.'"
      ]
     },
     "execution_count": 25,
     "metadata": {},
     "output_type": "execute_result"
    }
   ],
   "source": [
    "summarize(\"https://edwarddonner.com\")"
   ]
  },
  {
   "cell_type": "code",
   "execution_count": null,
   "id": "a995a0ad-6fd6-48af-89b1-8868f2eb89d4",
   "metadata": {},
   "outputs": [],
   "source": []
  }
 ],
 "metadata": {
  "kernelspec": {
   "display_name": "Python 3 (ipykernel)",
   "language": "python",
   "name": "python3"
  },
  "language_info": {
   "codemirror_mode": {
    "name": "ipython",
    "version": 3
   },
   "file_extension": ".py",
   "mimetype": "text/x-python",
   "name": "python",
   "nbconvert_exporter": "python",
   "pygments_lexer": "ipython3",
   "version": "3.11.13"
  }
 },
 "nbformat": 4,
 "nbformat_minor": 5
}
