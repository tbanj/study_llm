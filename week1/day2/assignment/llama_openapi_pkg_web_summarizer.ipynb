{
 "cells": [
  {
   "cell_type": "code",
   "execution_count": 9,
   "id": "b9b857be-0061-4f17-a74d-c42cecbf5d20",
   "metadata": {},
   "outputs": [],
   "source": [
    "''' summarize a webpage to use an Open Source model running OPENAPI package  downloaded\n",
    "locally to connect with ollama  API locally rather than OpenAI comment\n",
    "'''\n",
    "import requests\n",
    "from bs4 import BeautifulSoup\n",
    "from IPython.display import Markdown, display"
   ]
  },
  {
   "cell_type": "code",
   "execution_count": 10,
   "id": "912cedac-8175-47b5-89cd-20f316477608",
   "metadata": {},
   "outputs": [],
   "source": [
    "# Constants\n",
    "\n",
    "HEADERS = {\"Content-Type\": \"application/json\"}\n",
    "MODEL = \"llama3.2\""
   ]
  },
  {
   "cell_type": "code",
   "execution_count": 11,
   "id": "d393a4ea-095d-4447-8ba7-3d141501b73b",
   "metadata": {},
   "outputs": [],
   "source": [
    "from openai import OpenAI\n",
    "ollama_via_openai = OpenAI(base_url='http://localhost:11434/v1', api_key='ollama')"
   ]
  },
  {
   "cell_type": "code",
   "execution_count": 12,
   "id": "dfa5f392-c1ff-4191-9605-06477542a9da",
   "metadata": {},
   "outputs": [],
   "source": [
    "class Website:\n",
    "    url: str\n",
    "    title:str\n",
    "    text:str\n",
    "    def __init__(self, url):\n",
    "        \"\"\"\n",
    "        Create this Website object from the given url using the BeautifulSoup library\n",
    "        \"\"\"\n",
    "        self.url = url\n",
    "        response = requests.get(url)\n",
    "        soup = BeautifulSoup(response.content, 'html.parser')\n",
    "        self.title = soup.title.string if soup.title else \"No title found\"\n",
    "        for irrelevant in soup.body([\"script\", \"style\", \"img\", \"input\"]):\n",
    "            irrelevant.decompose()\n",
    "        self.text = soup.body.get_text(separator=\"\\n\", strip=True)"
   ]
  },
  {
   "cell_type": "code",
   "execution_count": 13,
   "id": "7f6d79ff-2e33-4120-bedb-4a97e0168393",
   "metadata": {},
   "outputs": [],
   "source": [
    "# system prompt\n",
    "\n",
    "system_prompt = \"You are an assistant that analyzes the contents of a website \\\n",
    "and provides a short summary, ignoring text that might be navigation related. \\\n",
    "Respond in markdown.\"\n",
    "\n",
    "\n",
    "# user prompt\n",
    "\n",
    "def user_prompt_for(website):\n",
    "    user_prompt = f\"You are looking at a website titled {website.title}\"\n",
    "    user_prompt += \"\\nThe contents of this website is as follows; \\\n",
    "\\nPlease provide a short summary of this website in markdown. \\\n",
    "\\nIf it includes news or announcements, then summarize these too.\\n\\n\"\n",
    "    user_prompt += website.text\n",
    "    return user_prompt"
   ]
  },
  {
   "cell_type": "code",
   "execution_count": 14,
   "id": "7e452dbe-8648-4f5a-96ee-0a04f1faa3cc",
   "metadata": {},
   "outputs": [],
   "source": [
    "def messages_for(website):\n",
    "    return [\n",
    "        {\"role\": \"system\", \"content\": system_prompt},\n",
    "        {\"role\": \"user\", \"content\": user_prompt_for(website)}\n",
    "    ]"
   ]
  },
  {
   "cell_type": "code",
   "execution_count": 15,
   "id": "fbce1f2e-70b5-4975-8d45-d21ba1a1ad32",
   "metadata": {},
   "outputs": [],
   "source": [
    "def summarize(url):\n",
    "    website = Website(url)\n",
    "    \n",
    "    response = ollama_via_openai.chat.completions.create(\n",
    "    model=MODEL,\n",
    "    messages=messages_for(website))\n",
    "    return response.choices[0].message.content"
   ]
  },
  {
   "cell_type": "code",
   "execution_count": 16,
   "id": "df5e0c0c-9366-4174-a15b-cb762b0ddab9",
   "metadata": {},
   "outputs": [
    {
     "data": {
      "text/plain": [
       "\"# Summary of the Website\\n#### Tagline/Concept: Learning AI and Talent Matchmaking\\nThe website appears to be centered around a mix of personal projects and professional endeavors by Ed Donner, its creator. Key aspects include:\\n- Developing Large Language Models (LLMs) for talent matchmaking.\\n- Founding two successful AI startups: untapt (acquired in 2021) and Nebula.io.\\n\\n#### Articles/Guides\\n- **May 28, 2025:** An announcement of Ed's courses aiming to educate on becoming an LLM expert and leader.\\n- **May 18, 2025:** A workshop focusing on the Complete Agentic AI Engineering Course.\\n- **April 21, 2025:** AI Executive Briefing events.\\n- **January 23, 2025:** Introduction of the LLM Workshop – Hands-on with Agents.\\n\\n#### News/Announcements\\nThe website seems to announce Ed Donner's courses and projects, including his involvement in leading various workshops and briefings related to AI executives.\""
      ]
     },
     "execution_count": 16,
     "metadata": {},
     "output_type": "execute_result"
    }
   ],
   "source": [
    "summarize(\"https://edwarddonner.com\")"
   ]
  },
  {
   "cell_type": "code",
   "execution_count": null,
   "id": "bfb48186-2605-4df9-84b7-c681a6a89c5b",
   "metadata": {},
   "outputs": [],
   "source": []
  }
 ],
 "metadata": {
  "kernelspec": {
   "display_name": "Python 3 (ipykernel)",
   "language": "python",
   "name": "python3"
  },
  "language_info": {
   "codemirror_mode": {
    "name": "ipython",
    "version": 3
   },
   "file_extension": ".py",
   "mimetype": "text/x-python",
   "name": "python",
   "nbconvert_exporter": "python",
   "pygments_lexer": "ipython3",
   "version": "3.11.13"
  }
 },
 "nbformat": 4,
 "nbformat_minor": 5
}
